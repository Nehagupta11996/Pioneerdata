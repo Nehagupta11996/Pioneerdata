{
 "cells": [
  {
   "cell_type": "code",
   "execution_count": 23,
   "metadata": {},
   "outputs": [],
   "source": [
    "#import all the required libraries\n",
    "import pandas as pd\n",
    "import selenium\n",
    "from selenium import webdriver\n",
    "import time\n",
    "from selenium.common.exceptions import StaleElementReferenceException, NoSuchElementException"
   ]
  },
  {
   "cell_type": "code",
   "execution_count": 26,
   "metadata": {},
   "outputs": [],
   "source": [
    "#opening the link\n",
    "\n",
    "driver=webdriver.Chrome(\"chromedriver.exe\") \n",
    "time.sleep(4)\n",
    "\n",
    "url = \"https://www.dailypioneer.com/searchlist.php?yr=2017&mn=11\"\n",
    "driver.get(url)\n",
    "time.sleep(6)\n",
    "#url = \"https://www.dailypioneer.com/searchlist.php?yr=2017&mn=11\""
   ]
  },
  {
   "cell_type": "code",
   "execution_count": 27,
   "metadata": {},
   "outputs": [],
   "source": [
    "# scrape all product urls\n",
    "product_urls = []\n",
    "start=0\n",
    "end=3\n",
    "for page in range(start,end):#for loop for scrapping 3 page\n",
    "    url=driver.find_elements_by_xpath('//div[@class=\"row newsWrap no-gutters\"]//div/h2/a')       #scraping urls\n",
    "    for i in url:\n",
    "        product_urls.append(i.get_attribute(\"href\"))                        #appending the urls in product_urls list\n",
    "    nxt_button=driver.find_element_by_xpath(\"//a[@class='pnext']\")     #scraping the list of buttons from the page\n",
    "    nxt_button.click()\n",
    "    time.sleep(2)"
   ]
  },
  {
   "cell_type": "code",
   "execution_count": 28,
   "metadata": {},
   "outputs": [
    {
     "data": {
      "text/plain": [
       "['https://www.dailypioneer.com/2017/state-editions/polling-for-municipal-corporations-was-held-through-evms.html',\n",
       " 'https://www.dailypioneer.com/2017/state-editions/the-voters-participation-increased-by-over-six-percent.html',\n",
       " 'https://www.dailypioneer.com/2017/state-editions/the-widow-of-a-kar-sewak-filed-a-petition.html',\n",
       " 'https://www.dailypioneer.com/2017/state-editions/hike-in-power-tariff.html',\n",
       " 'https://www.dailypioneer.com/2017/state-editions/samajwadi-party-announced-pawan-katiyar-as-its-candidate.html',\n",
       " 'https://www.dailypioneer.com/2017/state-editions/akhilesh-yadav-will-campaign-in-gujarat-assembly-election-for-four-days.html',\n",
       " 'https://www.dailypioneer.com/2017/state-editions/three-children-were-killed-in-separate-incidents.html',\n",
       " 'https://www.dailypioneer.com/2017/india/pak-yet-to-give-guarantee-for-visit-of-jadhavs-wife-vk-singh.html',\n",
       " 'https://www.dailypioneer.com/2017/india/didi-raps-cong-for-house-disruption.html',\n",
       " 'https://www.dailypioneer.com/2017/india/ak-antony-suffers-brain-haemorrhage-hospitalized.html',\n",
       " 'https://www.dailypioneer.com/2017/india/hadiya-spoke-to-husband-relieved-college-dean.html',\n",
       " 'https://www.dailypioneer.com/2017/business/finmin-giving-final-shape-to-recap-bonds-nod-likely-soon.html',\n",
       " 'https://www.dailypioneer.com/2017/business/chandrasekaran-wants-tata-cos--to-cash-in-on--india-opportunity.html',\n",
       " 'https://www.dailypioneer.com/2017/business/india-moves-up-one-spot-to-68-on-gei.html',\n",
       " 'https://www.dailypioneer.com/2017/state-editions/punjab-i-t-depts-workshop-to-unearth-benami-properties.html',\n",
       " 'https://www.dailypioneer.com/2017/state-editions/mou-with-italian-body-for-aluminium-park-soon.html',\n",
       " 'https://www.dailypioneer.com/2017/state-editions/bjp-leader-suraj-pal-amu-hits-out-at-haryana-cm.html',\n",
       " 'https://www.dailypioneer.com/2017/state-editions/senior-citizens-need-to-be-close-to-kids.html',\n",
       " 'https://www.dailypioneer.com/2017/state-editions/sit-files-chargesheet-against-honeypreet.html',\n",
       " 'https://www.dailypioneer.com/2017/state-editions/crorepati-bhadrak-cashier-in-vigilance-net.html',\n",
       " 'https://www.dailypioneer.com/2017/state-editions/argentina-will-strive-to-retain-champion-tag.html']"
      ]
     },
     "execution_count": 28,
     "metadata": {},
     "output_type": "execute_result"
    }
   ],
   "source": [
    "product_urls"
   ]
  },
  {
   "cell_type": "code",
   "execution_count": 29,
   "metadata": {},
   "outputs": [
    {
     "data": {
      "text/plain": [
       "[<selenium.webdriver.remote.webelement.WebElement (session=\"054507d5d674d5a367e1f137696c278e\", element=\"96db7447-4f2f-499c-83c5-d685b996f4e7\")>,\n",
       " <selenium.webdriver.remote.webelement.WebElement (session=\"054507d5d674d5a367e1f137696c278e\", element=\"c0c45b91-98b5-41f5-a0af-6a621d5df342\")>,\n",
       " <selenium.webdriver.remote.webelement.WebElement (session=\"054507d5d674d5a367e1f137696c278e\", element=\"fbb8b382-bd1b-47e2-a22d-dbed39c06000\")>,\n",
       " <selenium.webdriver.remote.webelement.WebElement (session=\"054507d5d674d5a367e1f137696c278e\", element=\"17252391-a694-4e0b-b67c-78764f93bcd9\")>,\n",
       " <selenium.webdriver.remote.webelement.WebElement (session=\"054507d5d674d5a367e1f137696c278e\", element=\"be2c9bd2-71a0-4e6e-a381-ad7050f0e2b6\")>,\n",
       " <selenium.webdriver.remote.webelement.WebElement (session=\"054507d5d674d5a367e1f137696c278e\", element=\"3831e93d-48a4-42e2-a0ad-1a79bc95a4f9\")>,\n",
       " <selenium.webdriver.remote.webelement.WebElement (session=\"054507d5d674d5a367e1f137696c278e\", element=\"93125a5c-d8e3-48fc-ae63-eb7d3a247e99\")>]"
      ]
     },
     "execution_count": 29,
     "metadata": {},
     "output_type": "execute_result"
    }
   ],
   "source": [
    "url"
   ]
  },
  {
   "cell_type": "code",
   "execution_count": 30,
   "metadata": {},
   "outputs": [],
   "source": [
    "#Make empty lists\n",
    "Headline = []   \n",
    "Date = []\n",
    "Author = []\n",
    "Description = []"
   ]
  },
  {
   "cell_type": "code",
   "execution_count": 35,
   "metadata": {},
   "outputs": [],
   "source": [
    "for url in product_urls:\n",
    "    driver.get(url)\n",
    "    time.sleep(2)\n",
    "    \n",
    "    # Extracting headline from xpath\n",
    "\n",
    "\n",
    "    headline = driver.find_element_by_xpath('//div[@class=\"storyDetailBox\"]//div/div/h2')      \n",
    "    Headline.append(headline.text)\n",
    "\n",
    "    time.sleep(1)\n",
    "    \n",
    "    # Extracting date from xpath\n",
    "    date = driver.find_element_by_xpath('//div[@class=\"storyDetailBox\"]//div/div/div/div/div/span')      \n",
    "    Date.append(date.text)\n",
    "\n",
    "    time.sleep(1)\n",
    "    # Extracting description from xpath\n",
    "    \n",
    "    description = driver.find_element_by_xpath('//div[@class=\"newsDetailedContent\"]')  \n",
    "    Description.append(description.text)"
   ]
  },
  {
   "cell_type": "code",
   "execution_count": 36,
   "metadata": {},
   "outputs": [
    {
     "data": {
      "text/plain": [
       "['Argentina: Will strive to retain champion tag',\n",
       " 'Polling for municipal corporations was held through EVMs',\n",
       " 'Polling for municipal corporations was held through EVMs',\n",
       " 'The voters participation increased by over six percent',\n",
       " 'The widow of a Kar Sewak filed a petition',\n",
       " 'Hike in power tariff',\n",
       " 'Samajwadi Party announced Pawan Katiyar as its candidate',\n",
       " 'Akhilesh Yadav will campaign in Gujarat Assembly election for four days',\n",
       " 'Three children were killed in separate incidents',\n",
       " \"Pak yet to give guarantee for visit of Jadhav's wife: VK Singh\",\n",
       " 'Didi raps Cong for House disruption',\n",
       " 'AK Antony suffers brain haemorrhage, hospitalized',\n",
       " \"Hadiya spoke to husband, 'relieved': College dean\",\n",
       " 'FinMin giving final shape to recap bonds, nod likely soon',\n",
       " 'Chandrasekaran wants Tata cos to cash in on India opportunity',\n",
       " 'India moves up one spot to 68 on GEI',\n",
       " \"Punjab I-T dept's workshop to unearth benami properties\",\n",
       " 'MoU with Italian body for aluminium park soon',\n",
       " 'BJP leader Suraj Pal Amu hits out at Haryana CM',\n",
       " \"'Senior citizens need to be close to kids'\",\n",
       " 'SIT files chargesheet against Honeypreet',\n",
       " 'Crorepati Bhadrak cashier in Vigilance net',\n",
       " 'Argentina: Will strive to retain champion tag']"
      ]
     },
     "execution_count": 36,
     "metadata": {},
     "output_type": "execute_result"
    }
   ],
   "source": [
    "Headline"
   ]
  },
  {
   "cell_type": "code",
   "execution_count": 37,
   "metadata": {},
   "outputs": [
    {
     "data": {
      "text/plain": [
       "['Wednesday, 29 November 2017',\n",
       " 'Thursday, 30 November 2017',\n",
       " 'Thursday, 30 November 2017',\n",
       " 'Thursday, 30 November 2017',\n",
       " 'Thursday, 30 November 2017',\n",
       " 'Thursday, 30 November 2017',\n",
       " 'Thursday, 30 November 2017',\n",
       " 'Thursday, 30 November 2017',\n",
       " 'Thursday, 30 November 2017',\n",
       " 'Thursday, 30 November 2017',\n",
       " 'Thursday, 30 November 2017',\n",
       " 'Thursday, 30 November 2017',\n",
       " 'Thursday, 30 November 2017',\n",
       " 'Thursday, 30 November 2017',\n",
       " 'Thursday, 30 November 2017',\n",
       " 'Thursday, 30 November 2017',\n",
       " 'Wednesday, 29 November 2017',\n",
       " 'Wednesday, 29 November 2017',\n",
       " 'Wednesday, 29 November 2017',\n",
       " 'Wednesday, 29 November 2017',\n",
       " 'Wednesday, 29 November 2017',\n",
       " 'Wednesday, 29 November 2017',\n",
       " 'Wednesday, 29 November 2017']"
      ]
     },
     "execution_count": 37,
     "metadata": {},
     "output_type": "execute_result"
    }
   ],
   "source": [
    "Date"
   ]
  },
  {
   "cell_type": "code",
   "execution_count": 43,
   "metadata": {},
   "outputs": [
    {
     "data": {
      "text/plain": [
       "[\"Amid sporadic incidents of violence and protest over missing names in electoral rolls, an estimated 53 per cent of the total 94.05 lakh electorate exercised their franchise in the third and last phase of urban local bodies poll in 26 districts of Uttar Pradesh on Wednesday.\\nIncidents of violence were reported following heated exchange of arguments over fraudulent voting and names missing from voters’ list. Several persons were detained while FIRs were lodged against candidates for the violation of the model code of conduct.  \\nSources in State Election Commission said that the poll percentage could further go up as hundreds of voters were in the queue when polling ended at 5 pm. Re-polling in one booth in Balaganj area of lucknow Nagar Nigam was also held along with the third phase of elections.\\nPolling percentage till 12 noon was 27 per cent while at 3 pm it crossed the 40 per cent mark.  \\nIn the first phase, polling percentage was 52.59 per cent in 24 districts while in violence-marred second phase, it was 49 per cent in 25 districts.\\nOn Wednesday, polling was held for 4,299 wards in 233 local bodies in which the fate of 28,135 candidates was sealed in EVMs and ballot boxes. While polling for municipal corporations was held through EVMs, others were done through traditional ballot papers. Counting of votes will be held on December 1 and results will be declared by the evening. \\nIn Barabanki, police beat up polling agents and ransacked temporary camps set up by parties near polling stations. The police action at Pir Batawan polling station disturbed polling and very few voters turned out to cast their votes after the police action.\\nIn Sitapur, independent candidate Sanjeev Gupta lodged an FIR against Samajwadi Party candidate for Sitapur nagar palika parishad chairman's post and former MlA Radheshyam Jaiswal for violation of model code of conduct. \\nIn Moradabad, three burqa-clad women were detained for attempting to cast vote on fake identities at Thakurdwara polling booth, while voters created a ruckus at RRK Inter College over alleged fraudulent voting. Polling in the district was held up for over an hour at several booths as polling agents and supporters of rival parties came to a head accusing each other of fake voting.\\nIn Etah, BJP and Samajwadi Party supporters clashed in Jalesar area in which BJP MlA Sanjeev Diwakar was injured. The clash took place after SP supporters alleged that BJP workers were distributing cash to voters. \\nIn Saharanpur, locals staged a protest at several booths after their names were found missing from electoral rolls. They alleged that their names were deliberately deleted by the district administration at the behest of local BJP leaders. At some places, police resorted to lathicharge to disperse violent mob in order to facilitate smooth conduct of polling.\\nIn Baghpat, three youths were arrested for attacking cops at Barot area while in Ferozabad, two women were detained for trying to vote on other people’s names under Jasrana nagar panchayat booth number 7.\\nIn Kannauj, the lok Sabha constituency of Samajwadi Party MP Dimple Yadav, two supporters of an independent candidate were arrested after they clashed with polling personnel in Shastrinagar polling centre of Gursahaiganj area.\\nIn Mahoba, a clash took place at a polling station when an independent candidate attempted to enter the booth forcibly.\\nIn Jhansi, Aam Aadmi Party (AAP) activists clashed with the police at a booth in lBM School in Nabababad area. AAP leaders alleged that the police snatched voters’ list from their polling agents.\\nIn Jaunpur, two youths were arrested while trying to vote in other persons’ names in Shahganj tehsil ward booth, while in Bulandshahr, an independent candidate for Kakor nagar panchayat was arrested for creating ruckus at a polling booth.\",\n",
       " 'The State election commission has said  that the voters participation increased by over six percent as compared to the civic elections in 2012.  The commission claimed that the year’s elections of the urban local bodies   were very peaceful and incident free.  With the completion of the third phase of polling the urban local bodies completed on Wednesday.  The counting of votes will be held on December 1.\\nThe State Election commissioner (SEC) SK Agarwal said here on Wednesday that   in 2012 elections the voter’s turnout was only 42 percent which increased to 52.5 percent in elections for the urban local bodies held this year.\\nAbout the voter’s turnout in nagar nigam cities, SEC said, lowest turnout of 30 percent was recorded in Allahabad.  listing his achievements SERC said out of total 36,797 polling booths   repoll was ordered only in three polling booths.  He said during this year’s civic elections there was no casualty among the staff deployed for the polling duty. He said in 2012  elections  16 persons  had died while on polling duty and 81 person died on polling duty during the panchyat elections held in 2016.\\nOn the electronic voting machines (EVMs) the SEC said only 503 EVMs had to be replaced due to their malfunctioning. He said  against the standard  two percent replacement rate  as many as seven percent EVMs had to be replaced in UP. The EVMs were used for polling in 16 nagar nigam towns for mayoral elections. In other two urban local bodies—Nagar palika parishad and nagar panchyat elections were held through ballot papers.\\nSEC said the district administration of lucknow was the worst performer in the elections. `` Maximum number of complaints about the missing names from the electoral rolls was received from lucknow. They had over six months time for the roll revision   yet the results were disgusting. I will summon the officials of luck now district and ask for detailed explanation from them’’, said SK Agarwal.',\n",
       " 'The widow of a Kar Sewak who died in police firing on November 2, 1990, filed a petition in a Faizabad court seeking prosecution of Samajwadi Party patriarch Mulayam Singh Yadav. At the time of the incident, Mulayam was the Chief Minister when thousands of Kar Sewaks stormed the disputed site at Ayodhya attempting to demolish it. \\nIn a petition, Gayatri Devi, the widow of Ramesh Kumar Pandey, alleged that she lost her husband in the police firing, but she was not aware of who ordered the firing. \\nAfter allowing the petition, Additional Chief Judicial Magistrate Ravindra Dubey posted the matter for hearing on December 5.\\nCiting a recent speech in which Mulayam Singh Yadav admitted that he had ordered the firing on Kar Sewaks in Ayodhya at state SP office in lucknow on November 22, the petitioner said, “Now that it was clear that it was he (Mulayam) who had ordered the police to shoot innocent people, he should be brought to justice.\"\\nDefending the police firing on Kar Sewaks, the Samajwadi Party patriarch had said that he wouldn’t have hesitated in ordering the killing of more people, if required, because it was a matter of national security and unity and integrity of the country. As many as 28 people were killed in the firing.\\nThe petitioner demanded lodging of FIR against the Samajwadi Party leader under relevant sections of Indian Penal Code, including Sections 302 (murder) and 120B (conspiracy).',\n",
       " 'Power consumers in the state are likely to get a shock as power regulator Uttar Pradesh State Electricity Regularity Commission (UPSERC) is expected to announce a hike in power tariff on Thursday.\\nThe UP Power Corporation limited (UPPCl) in its annual revenue requirement statement filed before the regulator had sought overall hike 22.66 per cent covering all categories of power consumers. \\nUrban domestic power consumer are likely to face additional burden of 15 per cent, rural  consumers will bear the brunt of steep hike in tariff expected to be over 100 per cent.\\nIn its proposal submitted to the UPERC, the UPPCl had sought a steep hike of 260 per cent to 350 per cent in the current power tariff for unmetered rural domestic consumers and 150 per cent hike for metered rural domestic consumers for the year 2017-18. It had also sought 60 per cent increase for farmers’ unmetered tube wells.\\nAs for urban domestic consumers, the UPPCl had proposed an average 12 per cent increase in tariff depending on their monthly consumption. No tariff hike has been proposed in respect of small and heavy industries. The proposed hike in tariff for commercial consumers is around 15 per cent.\\nUPSERC sources said that the tariff order is ready and would be announced in lucknow on Thursday. The new tariff order is likely to be enforced from mid-December. \\nThe tariff hike was delayed for about two months as a result of civic elections in the state.  UPPCl had argued with the power regulator to announce tariff order before announcement of Urban local Bodies election by State Election Commission. The regulator however rejected the plea saying that the order would be announced only after public hearing with all stake holders in power sector. \\nThe UPPCl in its annual revenue requirement) filed before the regulator in August this year had proposed a hike in the tariff in rural consumers by around 300 per cent. Sources said the regulator agreed for only 100-150 percent hike.\\nMeanwhile, an office bearar of Uttar Pradesh Rajya Vidyut Upbhokta Parishad urged the power regulator to sympathetically consider problems of consumers and reconsider the tariff hike proposed by UPPCl. \\nHe said that UPSERC has time till January 2, 2018 to announce the new tariff order, there is pressure from the UPPCl to announce it early.  ',\n",
       " 'Samajwadi Party announced Pawan Katiyar as its candidate for the by-poll to Sikandara Assembly seat in Kanpur Dehat where polling is scheduled on December 21.\\nThe seat fell vacant following the death of sitting BJP member Mathura Prasad Pal, who died after a prolonged illness on July 22. The last date for filing of nomination for the by poll is December 4.\\nIn a surprise move, SP became the first party to announce its first candidate for the 2019 lok Sabha elections in UP. Rakesh Sacchan has been has been named as party candidate from Fatehpur lok Sabha constituency. He was elected to lok Sabha from Fatehpur in 2004 election as Samajwadi Party candidate. In 2014 lok Sabha election however, he lost the seat to Sadhvi Niranjan Jyoti of the BJP.',\n",
       " 'Samajwadi Party president Akhilesh Yadav will campaign in Gujarat Assembly election for four days starting December 4. The SP is in an electoral understanding with the Congress and is contesting five seats out of the total of 182 seats in Gujarat Assembly.\\nSP spokesman Rajendra Chaudhary said in luccknow on Wednesday that party chief Akhilesh Yadav will campaign in Gujarat to urge the people there to strengthen democratic and secular forces against divisive and communal politics pursued by the BJP. \\nChaudhary said during his campaign in Gujarat, Akhuilesh will expose the anti-people policies of the BJP governments at the Centre and several states.\\nThe SP leader said that UP Chief Minister Yogi Adirtyanath while campaigning in Gujarat elections was misleading the people. He alleged that Yogi has no concern for the people of the state and was hence campaigning in Gujarat. \\nThe BJP has nominated Chief Minister Yogi Adityanath as one of its star campaigner for Gujarat Assembly elections.',\n",
       " 'Tragedy struck the state when 14 persons, including three children, were killed in separate incidents since Tuesday night.\\nIn Shahjahenpur, three children were killed and two others injured after a wall collapsed over them in Sarthauli village on Wednesday morning. The police later shifted the injured to hospital. \\nA government communiqué confirmed that Yogi deeply condoled the death and termed the incident a `tragedy’. He also extended his condolences and sympathies to the bereaved families.  A government spokesman informed that the Chief Minister directed officers to ensure prompt and adequate treatment to the injured and ensure all possible help to the affected persons.\\nSP of Shahjehanpur said that the incident took place when a foundation was being laid for construction of a wall and an adjoining wall collapsed on the children playing nearby. Five persons including four children were buried under the debris. The police reached the spot and while removing the debris, found three children already dead and two others critically injured. The deceased were indentified as Ganesh (10), Sharda aka Nanhi (5) and Shivani (10). Thee injured were identified as Ram Kumar and Pransukh. They were admitted to district hospital and the bodies were sent for autopsy.\\nIn Gorakhpur, a Bolero jeep (UP50AP-6297) hired by a marriage party was going from Azamgarh to Nautanwa when a speeding private bus coming from Sonauli to Varanasi collided head-on at Badhaibari of Pipiganj police station on Wednesday morning. Four persons were killed while three were critically injured and were admitted to a hospital. The victims were identified as Shashi Rai (30) and his brother Amit Rai of Kopaganj in Mau, Deepak Rai (25) of Azamgarh and Shatrughan Pandey (25) of Sant Kabir Nagar. The bus driver abandoned the vehicle and escaped. A case was registered and efforts were being made to nab the accused. \\nElsewhere in Fatehpur, three of a family were killed in a freal accident on Wednesday. As per reports, three of a family were going on a motorcycle when the saree of a woman sitting on the pillion got entwined in the wheel cog and all three crashed to the ground. In the meantime, a speeding truck (UP93AT-3646) coming from behind ran over them killing all of them. The victims were identified as Idris (55), wife Hamidulnishan and their 19-year-old son Shamshad from Sohat hamlet of Sultanpur Ghosh in Fatehpur.\\nIn Sambhal, two persons were killed when a high tension wire fell on them near Mandali village on Tuesday night. Rewat Ram and Ram Kishore, both in early thirties, were passing through Hussaini road on a motor cycle when the wire fell on them in which they suffered critical burns and died on way to the hospital. Their bodies were sent for autopsy. \\nMeanwhile in Mathura, two youths were killed when their motorcycle was hit from behind by a Canter truck at Abairani crossing on Monday morning. The deceased were identified as Dhania (20) and Kalua (19) of Abairani. The Canter driver fled the spot after abandoning the vehicle. A case was registered and efforts were on to nab the driver.',\n",
       " 'Pakistan is yet to give a sovereign guarantee about the safety and security of Kulbhushan Jadhav’s wife if she visits that country to meet her husband, Minister of State for External Affairs VK Singh said on Wednesday.\\n“Talks are still in progress. They (Pakistan) are yet to provide guarantee on the safety aspect.”\\nPakistan’s foreign office had earlier this month said it will allow Kulbhushan Jadhav to meet his wife.\\nResponding to Pakistan’s offer of arranging a meeting between the former naval officer and his wife, India also requested that his mother be allowed to meet him too.\\nA military court in Pakistan had in April this year sentenced Jadhav, a former navyman, to death on the charge of his alleged involvement in espionage and terror attacks. India strongly denied the allegation.\\nThe International Court of Justice has stayed Jadhav’s execution.\\nTalking to journalists on the sidelines of an event here, Singh also said India “does not care” about 26/11 Mumbai attack mastermind Hafiz Saeed approaching the United Nations to get his name struck off the list of designated terrorists.',\n",
       " 'West Bengal Chief Minister Mamata Banerjee on Wednesday hit out at opposition Congress for boycotting the Assembly almost every day during the ongoing winter session and warned that her party, the Trinamool Congress (TMC), would not cooperate with it in Parliament.\\n“Some people think that for the sake of getting their photos printed in newspapers, they will continue to spread canards and false allegations and keep on boycotting the House. Whom are they boycottingIJ They are boycotting their own principles and politics,” she said at the Assembly.\\n“You (Congress) cannot do it every day. I have noticed it for five years that whenever I come to deliver a speech, they (Congress) leave the House on any excuse and boycott it. If you have anything to say, come to the House and speak,” the Chief Minister added.\\nThe TMC supremo claimed that the Congress sought her party’s cooperation “even to move one step in Parliament” and added that the same party was boycotting the assembly and spreading false allegations against the TMC in West Bengal.\\n“In Parliament, you (Congress) cannot move even a single step without the TMC and here, every day you are boycotting the House and spreading false allegations against the Government. On price hike, you question the TMC. Why can’t you question the BJP on price hikeIJ\\n“Keep it in mind that the way you behave here, you will get the same treatment in Delhi. You cannot seek cooperation in Delhi and continue boycotting the House here every day,” she said.\\nThe opposition - the Congress and the left Front - has boycotted the House proceedings several times during the ongoing Winter Session of the Assembly, after their demands for discussions on issues such as the dengue situation in the State were not allowed.\\nBanerjee laid the foundation for the proposed platinum jubilee memorial bhavan on the Assembly premises. Old documents related to the House proceedings and books would be conserved there.',\n",
       " 'Former Defence Minister AK Antony was on Wednesday admitted to the Ram Manohar lohia Hospital after he fell at his home here and suffered a minor brain haemorrhage, said hospital authorities.\\nThe senior Congress leader was admitted to RMl on Wednesday afternoon, but a doctor did not confirm the time.\\n“He was brought to the hospital in the afternoon and is currently admitted. There is nothing to worry as it was a minor brain haemorrhage,” said the doctor on the condition of anonymity.  ',\n",
       " 'The long pending desire of Hadiya, a Kerala woman at the centre of an alleged love-jihad case, was fulfilled on Wednesday when she spoke to her husband over the phone.\\nA day after she arrived in the city to continue studies+ at the Sivaraj Homeopathy medical college as directed by the Supreme Court, she spoke to her husband using the phone of the college dean.\\n“Hadiya talked to Jahan (her husband) for a while from my mobile phone, after I, as local guardian, asked her whether she was interested in talking or meeting anybody,” the college dean G Kannan told reporters.\\nThe 25-year-old was brought to the institution amid tight security by Kerala police from Coimbatore, about 170 km from here last evening.\\nEarlier when reporters asked about her husband Shafin Jahan, Hadiya said she had no contact with him for the last few months as she did not have a mobile phone and the only people she spoke to were her parents.\\n“I am very eager to speak to my husband+ ,” said Hadiya, who was in the news recently after her conversion to Islam and marriage with the Muslim youth in Kerala.\\nThe dean said: “She appeared to be relieved from depression after talking to him (husband). There is no restriction imposed on her to talk or to meet anybody.”\\nHadiya also expressed regret for the tense situation prevailing in the college and inconvenience to students due to her, Kannan said.',\n",
       " 'The Finance Ministry is in the process of fixing the nuts and bolts of the Rs 1.35 lakh crore recapitalisation bonds for public banks and the framework is expected to get the nod from the finance minister in the next few days, said official sources.\\nThe Department of Financial Services, in consultation with the Reserve Bank of India, has submitted proposals to the Department of Economic Affairs, which is working on the final structure, a Government official said, adding that the final structure will be known in the next few days after approval from the finance minister.\\nThe framework once cleared will go to Parliament for necessary approvals, another official said.\\nThe upcoming winter session of Parliament will begin on December 15 and continue till January 5.\\nlast month, Finance Minister Arun Jaitley had announced an unprecedented Rs 2.11 lakh crore two-year road map to strengthen public sector banks (PSBs). The plan included re-capitalisation bonds of Rs 1.35 lakh crore.\\nThe finance minister had said multiple options for recapitalisation bonds were on the Government table, are being examined and the best ones would be explored.\\nOnce the structure is in place, the Government will frontload bond issuance, and a preliminary assessment indicates that it could be between Rs 70,000-80,000 crore, the official added.\\nThe funding is expected to help strengthen financials of NPA-hit banks. Non-performing assets (NPAs) of public sector banks alone have increased to Rs 7.33 lakh crore as of June 2017, from Rs 2.75 lakh crore in March 2015.\\nBesides recapitalisation bonds, the finance minister had announced that banks would get about Rs 18,000 crore under the Indradhanush plan over the next two years.\\nUnder the Indradhanush road map announced in 2015, the Government had announced infusion of Rs 70,000 crore in state-owned banks over four years while they will have to raise a further Rs 1.1 lakh crore from the market to meet their capital requirement in line with global risk norms, known as Basel-III.\\nIn the last three-and-a-half years, the Government pumped in Rs 51,858 crore capital in the PSBs. The remaining Rs 18,142 crore will be injected into the banks over two years.',\n",
       " 'No other market is going to grow faster than India in the next 10-20 years and Tata companies should use the opportunity to make investments and take part in and contribute to India’s growth story, according to the group’s chief N Chandrasekaran.\\nAt the same time, “some level of consolidation is essential” for the salt-to-software conglomerate, which saw 64.1 per cent of its total revenues in 2016-17 from global operations in over 100 countries, he observed.\\n“No other market, I believe, is going to grow faster than India in the next 10-20 years. Considering our demographic profile, we will have a consumer population that is going to have higher spending power,” Chandrasekaran said in an interview to the group’s in-house magazine Tata Review.\\nStressing that India is “a massive market, the biggest game in town”, he said, “The opportunity for many of our businesses in India is fantastic. They should use this opportunity to make investments and participate in and contribute to India’s growth story.”\\nHe, however, said different firms of the Tata group need to understand their individual domestic prospects, because all of them may not have the same growth opportunities. Each will need to craft its own strategy and this will have to be company specific,” Chandrasekaran added.                                             ',\n",
       " 'India has moved up one place to the 68th spot on the Global Entrepreneurship Index (GEI) of 2018, which is topped by the US. India was at the 69th position last year. The US topped the index, which ranked 137 countries, this year also, Jonathan Ortmans, president of the Global Entrepreneurship Network (GEN), said on Wednesday.\\n“India is in 68th position in the Global Entrepreneurship Index. The USA is in first position in 2018. The list was prepared for 137 countries in the world.” “Each country is ranked according to its GEI score to indicate overall entrepreneurship attitude and potential,\" Ortmans said at a session at the Global Entrepreneurship Summit (GES) being held here.\\nIndia was at 76th position in 2014, according to the Global Entrepreneurship Development Institute (GEDI), a Washington, DC-based policy development organisation dedicated to expanding economic opportunities for individuals, communities and nations. last year, India enjoyed the largest jump in the rankings, moving up 29 spots to 69th position.',\n",
       " 'A seminar on the “Prohibition of Benami Property Transactions Act” was organised by the Income Tax Department at Judicial Academy here on Tuesday for the Punjab Vigilance officers to keep abreast with the recent amendments in the legislation.\\nSpeaking on the occasion, Principal Chief Commissioner of Income Tax, North West Region, Madhu Mahajan said that to provide effective regime for prohibition of benami transactions this act was amended through the Benami Transactions (Prohibition) Amended Act in 2016 and it empowers the specified authorities to provisionally attach and confiscate such properties.\\nShe added that dedicated Benami Probibition Units (BPUs) have also been setup under Principal Director IT and about 300 benami properties were being attached in the country.\\nMahajan informed that States like Haryana and Himachal Pradesh have so many benami properties which were being looked into and Punjab BPU has done a commendable progress under this Act.Principal Director of IT (Investigation) Punjab and J & K, Parneet Singh Sachdev informed that since the inception of this Act in 1988 the IT department could scrutinize benami properties pertaining to more than 28 years under the legislation.\\nInteracting with VB officers and officials he sought better coordination between the IT officers and law enforcement agencies to effectively unearth the ill gotten money and benmai properties in the state.\\nThe participants in the seminar have also discussed various impacts of the amendment and its effective implementation.\\nProminent among others present on the occasion included Chief Director Vigilance Bureau Punjab B.K. Uppal, Director Vigilance Bureau Punjab G. Nageswara Rao, IG Shive Kumar Verma, Rajinder Kaur Additional Director IT and Rajeev Wadhera Deputy Commissioner IT besides SSPs of various Vigilance Bureau ranges and senior officers of the Bureau. ',\n",
       " 'The Aluminium Association of India (AAI) and Italy’s leading aluminium association ASSOMET & AMAFOND would soon sign an MoU for investing in joint venture in the upcoming Aluminium Park at Angul which is being jointly developed by the National Aluminium Company limited (Nalco) and the Odisha Industrial Infrastructure Development Corporation (Idco).\\nItalian Consul General Damiano Francovigh along with other officials met AAI Chairman and Nalco CMD Dr Tapan Kumar Chand here on Tuesday and held discussions for collaboration between aluminium industries of India and Italy.\\nDr Chand was optimistic about a business partnership and proposed the Italian delegation to visit the Nalco and other industries in Odisha, to which the Consul General agreed.\\n “With large bauxite reserves and presence of major aluminum players like Nalco, Hindalco and Vedanta, Odisha is considered to be the aluminium capital of India. Global firms should come forward for investing in joint ventures with upstream and downstream units,” said Dr Chand.\\nThe MoU is scheduled to be signed during the next visit of the Italian industry delegation in January 2018. ',\n",
       " 'With the ongoing protest against Sanjay leela Bhansali-directed ‘Padmavati’ being reduced to vituperative outburst, the leaders of Rashtriya Rajput Karni Sena accompanied by none other than BJP leader Suraj Pal Ammu, on Tuesday targeted Haryana Chief Minister Manohar lal after the latter did not meet their delegation in Delhi.\\nThe backlash over Haryana BJP chief media coordinator Suraj Pal Ammu’s remarks, offering Rs 10 crores for beheading actor Deepika Padukone and Bhansali, has barely subsided when the BJP leader has now made a fierce attack on Manohar lal accusing him of insulting the delegation from Rajput community that had come to meet him in Delhi to press for their demand of ban on Padamavati.\\n Following this, the Karni Sena, which shot to limelight for leading the protest against upcoming movie ‘Padmavati’ has sought an apology from Manohar lal for allegedly disrespecting the entire Rajput community.\\nSuraj Pal Ammu, a Rajput himself along with Karni Sena leaders claimed that  the Chief Minister had himself given an appointment to their members for Tuesday morning but left without meeting them at Delhi.\\nAfter BJP’s soft approach towards Suraj Pal’s previous beheading remarks, more embarrassment was in store for the party as he castigated Manohar lal, comparing him to demon king Ravana on Tuesday and saying that arrogant attitude is wrong and Ravana also had arrogance.\\nlaunching a scathing attack on the Chief Minister, an agitated BJP leader Suraj Pal Ammu while talking to The Pioneer said, “The CM has insulted the Rajput community. We will submit a complaint to Prime Minister and also, RSS against Manohar lal.”\\nWe were made to wait for more than an hour but the Chief Minister left without meeting us. Jats and other communities are already against the CM and now, he has insulted the Rajputs, said the BJP leader.\\nThese remarks came after a series of equally distasteful remarks made by Suraj Pal against actors Deepika Padukone,  Ranveer Singh, director Sanjay leela Bansali and even, West Bengal Chief Minister Mamata Banerjee after she announced to allow the release of the film in her state.\\nContinuing his tirade against Manohar lal, Suraj Pal said that  when there is a ban on movie Padmavati in states like Rajasthan, Madhya Pradesh, Gujarat and other states, then why Haryana CM is not putting a ban on the movie. The cabinet ministers have also demanded a ban on the movie but no decision has been taken by the CM, he added.\\nSuraj Pal went onto say, “I am hurt with the behavior of CM and if the party wants they can take action against me.”\\nThe BJP leader has also threatened that he will not allow Padmavati to be released in Haryana.\\nWhile the BJP had distanced itself from previous controversial statements of Suraj Pal, it has again failed to take any strong action against him following his sharp attack on the Chief Minister.\\nHaryana BJP chief Subhash Barala, while talking to the mediapersons here in the evening said, “I am yet to see the statement of Suraj Pal Ammu. If he has used objectionable remarks against anyone, strict action will be taken against him.” On being asked that the BJP leader has also asked the party to suspend him, Barala said that we will take disciplinary action against him after checking all the facts.\\nOn the issue of show cause notice being served to Suraj Pal seeking explanation for offering Rs 10 crore reward for beheading Bhansali and Deepika Padukone, Barala said that he has yet not received the reply from the BJP leader on this. On the other hand, Rashtriya Rajput Karni Sena has threatened to launch an agitation in the state against the Chief Minister. Karni Sena’s Haryana unit president, Bhawani Singh said that we will organize an agitation on December 9 at Panchkula against the Chief Minister, who has insulted the Rajput community.\\nWe will submit a memorandum to Haryana Governor demanding a ban on Padmavati in the state and also, an action against the Chief Minister for not meeting the leaders from Rajput community after giving an appointment to them, he added.\\nThe Karni Sena has been organizing protests in various parts of the state demanding a ban on the upcoming movie.\\nChief Minister Manohar lal had on November 22 said that any decision on permitting screening of film Padmavati in the state will be taken only after the decision of the Central Board of Film Certification (CBFC).\\n“Nobody would be allowed to hurt sentiments of people belonging to a particular community, “he had said after the cabinet meeting here.\\nSenior Minister Anil Vij had demanded a ban on the movie stating that historical facts have been distorted in it and protests are being held in various parts of the country against the movie. ',\n",
       " 'Since the distance between the senior citizens and children is increasing, the latter are getting detached from our culture and tradition, said North Odisha University’s former VC Prafulla Mishra while attending a function on the 6th death anniversary of Narasingha Nanda.\\nIt was organised jointly by the Godabaris Sahitya Sansad and the Utkal Sammilani, Mancheswar branch.\\nThere is a need for the senior citizens to get closer to the young generation, especially children, through social media like facebook and whatshop and teach them about our tradition and culture, Mishra opined. \\nAmong others, scribe Pradosh Patnaik and litterateurs Pabitra Mohanty and Narayan Prasad Choudhury spoke. Jiban Saha was conferred with Narasingha Nanda Smruti Samman on the occasion. Sammilani joint secretary Bibhuti Swain gave welcome address, while vice president Sital Chandra Mohanty offered a vote of thanks.  ',\n",
       " 'The special investigation team (SIT) of Haryana Police on Tuesday filed a chargesheet against Honeypreet Insan, adopted daughter of the dera chief Gurmeet Ram Rahim Singh in connection with the August 25 violence in Panchkula and Sirsa following the dera chief conviction in a rape case.\\nWidespread violence broke out soon after the sect chief was held guilty of raping two women by a special CBI court in Panchkula.\\nThe violence had left 41 people dead and more than 260 injured.\\nA 1,200 page charge-sheet was filed against Honeypreet and other accused in a Panchkula court. Honeypreet, whose real name is Priyanka Taneja, currently in judicial remand in the Ambala central jail since October 14, was arrested by the Haryana police on October 3.\\nShe had joined the court proceedings through video-conferencing on Tuesday.\\nA lookout notice, and later an arrest warrant, was issued by the Haryana Police against Honeypreet before she was arrested last month. Immediately after her arrest on October 3, the second-in-command of Dera Sacha Sauda had denied charges of rioting and sedition that Haryana Police had filed against her.\\nHoneypreet and eleven others have been charged with sedition, criminal conspiracy, besides other offences under the Indian Penal Code (IPC). The police has charged Honeypreet of planning the violence and distributing money for the purpose.\\nThe police, sources said, have maintained that the violence was pre-meditated and Honeypreet was the main conspirator.\\nThree others have been charged under Section 216 of the IPC (Harbouring offender who has escaped from custody or whose apprehension has been ordered) for giving shelter to Honeypreet when she was on the run, said Panchkula Police Commissioner A S Chawla.\\nThe charge sheet was filed by the SIT headed by ACP, Panchkula, Mukesh Malhotra, before the court of chief judicial magistrate in Panchkula.\\nIn the chargesheet, Honeypreet and the eleven others, including Dilawar Insan, Surinder Dhiman, and Chamkaur Singh, have been charged under Sections including 121 (waging, or attempting to wage war, or abetting waging of war, against the government) and 121-A (conspiracy to commit offences) of IPC.\\nAnother key dera member Aditya Insan, who is absconding, was charged as among the conspirators along with Honeypreet for the violence after Ram Rahim Singhs conviction.\\nDuring Honeypreets remand, the police had recovered a mobile phone, a laptop, some credit and debit cards and documents of properties and education-related certificates belonging to her. Cash recovery from Chamkaur Singh and documents seized from Honeypreet are among evidences that form part of charge sheet.\\nNotably, Honeypreet had traveled with the dera chief in a helicopter when he was airlifted from Panchkula to Rohtak’s Sunaria jail after his conviction in rape case.\\nlater, Honeypreet went into hiding for 38 days before her arrest on October 3 from the Zirakpur-Patiala highway.\\nAccording to the police, as many as 173 FIRs with nearly 1,000 dera followers as accused for attacking security forces and damaging public property have been registered so far.',\n",
       " 'The Vigilance police on Tuesday raided the houses and office of Tihidi block cashier Prabhakar Pradhan on allegation of acquisition\\nof assets disproportionate\\nto his known sources of income.\\nThe raids were conducted at Pradhan’s rented residential house, his under construction four storied building at Ranipatna in Baleswar town, his Government quarter at Tihidi in Bhadrak district, office room inside the premises of Tihidi block, paternal house at Baincha village under Sadar PS in Baleswar district and a house of his relative at Nachhipuria village under Baisingha PS in Mayurbhanj district by the sleuths of Vigilance Baleswar Division on the strength of search warrants issued by the Baleswar Vigilance Special Judge\\nDuring search, his and his family members’ movable and immovable assets worth Rs 1.03 crore were detected.  ',\n",
       " 'Olympic Champion and current World no.1 Argentina, which arrived for the prestigious Hockey World league (HWl) on Monday, said it would be vying to stay on top of the world ranking.\\nDespite a long journey and the tiredness, the team is extremely excited to be here in India. This is a big competition and it’s important to stay no.1 in the world which means to ensure best results in every match, stated 27-year-old Agustin Mazzilli.\\nGermany, which is grouped with India in Pool B, also arrived on Monday. The teams were welcomed by Odisha State officials accompanied by host nation Hockey India. The tournament is scheduled to begin on December 1 at the Kalinga Stadium here.\\nArgentina is grouped with Belgium, Netherlands and Spain in Pool A and will play their first match on December 2 against Belgium.\\nMeanwhile, Stefan Kermas, Head Coach of Germany, on arriving in Bhubaneswar said he would like his team to get used to the conditions.\\nDefending champions Australia, Olympic silver medallists Belgium and World no.7 England have already arrived in Bhubaneswar for the tournament. ']"
      ]
     },
     "execution_count": 43,
     "metadata": {},
     "output_type": "execute_result"
    }
   ],
   "source": [
    "Description"
   ]
  },
  {
   "cell_type": "code",
   "execution_count": 42,
   "metadata": {},
   "outputs": [],
   "source": [
    "for url in product_urls:\n",
    "    driver.get(url)\n",
    "    time.sleep(2)\n",
    "    \n",
    "    # Extracting author from xpath    \n",
    "    \n",
    "    author = driver.find_element_by_xpath('//div[@class=\"storyDetailBox\"]//div/div/div/div/div/span[3]')  \n",
    "    Author.append(author.text)"
   ]
  },
  {
   "cell_type": "code",
   "execution_count": 44,
   "metadata": {},
   "outputs": [
    {
     "data": {
      "text/plain": [
       "['PNS',\n",
       " 'PNS',\n",
       " 'PNS',\n",
       " 'PNS',\n",
       " 'PNS',\n",
       " 'PNS',\n",
       " 'PNS',\n",
       " 'PTI',\n",
       " 'PTI',\n",
       " 'PNS',\n",
       " 'PTI',\n",
       " 'PNS',\n",
       " 'PTI',\n",
       " 'PTI',\n",
       " 'PNS',\n",
       " 'PNS',\n",
       " 'Nishu Mahajan',\n",
       " 'PNS',\n",
       " 'PNS',\n",
       " 'PNS',\n",
       " 'PNS']"
      ]
     },
     "execution_count": 44,
     "metadata": {},
     "output_type": "execute_result"
    }
   ],
   "source": [
    "Author"
   ]
  },
  {
   "cell_type": "code",
   "execution_count": 47,
   "metadata": {},
   "outputs": [],
   "source": [
    "for url in product_urls:\n",
    "    driver.get(url)\n",
    "    time.sleep(2)\n",
    "    \n",
    "    # Extracting headline from xpath\n",
    "\n",
    "    try:\n",
    "        headline = driver.find_element_by_xpath('//div[@class=\"storyDetailBox\"]//div/div/h2')      \n",
    "        Headline.append(headline.text)\n",
    "    except NoSuchElementException:\n",
    "        Headline.append('-')\n",
    "\n",
    "    time.sleep(1)\n",
    "    \n",
    "    # Extracting date from xpath\n",
    "    try:\n",
    "        date = driver.find_element_by_xpath('//div[@class=\"storyDetailBox\"]//div/div/div/div/div/span')      \n",
    "        Date.append(date.text)\n",
    "    except NoSuchElementException:\n",
    "        Date.append('-')\n",
    "         \n",
    "    time.sleep(1)\n",
    "    # Extracting description from xpath\n",
    "    try:\n",
    "        description = driver.find_element_by_xpath('//div[@class=\"newsDetailedContent\"]')  \n",
    "        Description.append(description.text)\n",
    "    except NoSuchElementException:\n",
    "        Description.append('-')\n",
    "        \n",
    "    time.sleep(1)\n",
    "    # Extracting author from xpath    \n",
    "    try:\n",
    "        author = driver.find_element_by_xpath('//div[@class=\"storyDetailBox\"]//div/div/div/div/div/span[3]')  \n",
    "        Author.append(author.text)\n",
    "    except NoSuchElementException:\n",
    "        Author.append('-')"
   ]
  },
  {
   "cell_type": "code",
   "execution_count": null,
   "metadata": {},
   "outputs": [],
   "source": [
    "time.sleep(2)    \n",
    "# Make dataframe\n",
    "df = pd.DataFrame({'Headline':Headline,'Date':Date,'Author':Author,'Description':Description})\n",
    "df.head(5)"
   ]
  },
  {
   "cell_type": "code",
   "execution_count": null,
   "metadata": {},
   "outputs": [],
   "source": []
  }
 ],
 "metadata": {
  "kernelspec": {
   "display_name": "Python 3",
   "language": "python",
   "name": "python3"
  },
  "language_info": {
   "codemirror_mode": {
    "name": "ipython",
    "version": 3
   },
   "file_extension": ".py",
   "mimetype": "text/x-python",
   "name": "python",
   "nbconvert_exporter": "python",
   "pygments_lexer": "ipython3",
   "version": "3.8.5"
  }
 },
 "nbformat": 4,
 "nbformat_minor": 4
}
